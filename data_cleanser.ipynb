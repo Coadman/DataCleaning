{
 "cells": [
  {
   "cell_type": "code",
   "execution_count": null,
   "id": "52f755bd-cd17-4282-9a5f-0bed073371a8",
   "metadata": {},
   "outputs": [],
   "source": [
    "import numpy as np\n",
    "import pandas as pd\n"
   ]
  },
  {
   "cell_type": "code",
   "execution_count": null,
   "id": "7acb1013-eec5-4b0b-9c59-88d3eb455cc7",
   "metadata": {},
   "outputs": [],
   "source": [
    "filepathfeb = \"\"\n",
    "filepathmar = \"\"\n",
    "filepathapr = \"\""
   ]
  }
 ],
 "metadata": {
  "kernelspec": {
   "display_name": "Python 3 (ipykernel)",
   "language": "python",
   "name": "python3"
  },
  "language_info": {
   "codemirror_mode": {
    "name": "ipython",
    "version": 3
   },
   "file_extension": ".py",
   "mimetype": "text/x-python",
   "name": "python",
   "nbconvert_exporter": "python",
   "pygments_lexer": "ipython3",
   "version": "3.10.14"
  }
 },
 "nbformat": 4,
 "nbformat_minor": 5
}
